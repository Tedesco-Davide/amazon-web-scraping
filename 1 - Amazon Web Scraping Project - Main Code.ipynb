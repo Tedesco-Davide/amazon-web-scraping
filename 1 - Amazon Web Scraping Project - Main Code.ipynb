{
 "cells": [
  {
   "cell_type": "code",
   "execution_count": 3,
   "id": "363db273",
   "metadata": {},
   "outputs": [],
   "source": [
    "# Import libraries \n",
    "\n",
    "from bs4 import BeautifulSoup\n",
    "import pandas as pd\n",
    "import requests\n",
    "import time\n",
    "import datetime\n",
    "import smtplib\n",
    "import csv"
   ]
  },
  {
   "cell_type": "code",
   "execution_count": 4,
   "id": "18d1b39d",
   "metadata": {},
   "outputs": [],
   "source": [
    "# Connect to Website and pull in data\n",
    "\n",
    "URL = 'https://www.amazon.it/Solgar-Rose-Vita-C-1000/dp/B0B3S7BH53/ref=sr_1_39?__mk_it_IT=%C3%85M%C3%85%C5%BD%C3%95%C3%91&crid=28HYISLH6EJWL&keywords=vitamina&qid=1671613373&sprefix=vitamina%2Caps%2C111&sr=8-39'\n",
    "\n",
    "headers = {\"User-Agent\": \"Mozilla/5.0 (Windows NT 10.0; Win64; x64) AppleWebKit/537.36 (KHTML, like Gecko) Chrome/110.0.0.0 Safari/537.36\"}\n",
    "\n",
    "page = requests.get(URL, headers=headers)\n",
    "\n",
    "soup1 = BeautifulSoup(page.content, 'html.parser')\n",
    "\n",
    "soup2 = BeautifulSoup(soup1.prettify(), 'html.parser')\n",
    "\n",
    "title = soup2.find(id='productTitle').get_text()\n",
    "\n",
    "price = soup2.find(id='corePrice_feature_div').get_text()\n",
    "\n",
    "today = time.strftime(\"%d-%m-%Y\")\n",
    "\n",
    "saving_perc = soup2.find('span', {\"class\" : \"savingsPercentage\"}).string"
   ]
  },
  {
   "cell_type": "code",
   "execution_count": 5,
   "id": "229b9745",
   "metadata": {
    "scrolled": false
   },
   "outputs": [
    {
     "name": "stdout",
     "output_type": "stream",
     "text": [
      "Solgar Rose Vita C 1000\n",
      "22,40\n",
      "-30%\n",
      "21-12-2022\n"
     ]
    }
   ],
   "source": [
    "# Cleaning up the data\n",
    "\n",
    "title = title.strip()\n",
    "price = price.strip()[:5]\n",
    "today = today.strip()\n",
    "saving_perc = saving_perc.strip()\n",
    "\n",
    "print(title)\n",
    "print(price)\n",
    "print(saving_perc)\n",
    "print(today)"
   ]
  },
  {
   "cell_type": "code",
   "execution_count": 6,
   "id": "4ae82880",
   "metadata": {},
   "outputs": [],
   "source": [
    "# Create CSV and write headers and data into the file\n",
    "\n",
    "header = ['Title', 'Price', 'Saving Percentage', 'Date']\n",
    "data = [title, price, saving_perc, today]\n",
    "\n",
    "# Run the code below only ONCE to avoid losing / overwriting data \n",
    "\n",
    "with open('AmazonWebScraperDataset.csv', 'w', newline='', encoding='UTF8') as f:\n",
    "    writer = csv.writer(f)\n",
    "    writer.writerow(header)\n",
    "    writer.writerow(data)"
   ]
  },
  {
   "cell_type": "code",
   "execution_count": 7,
   "id": "33d064fa",
   "metadata": {},
   "outputs": [],
   "source": [
    "#Appending data to the CSV\n",
    "\n",
    "with open('AmazonWebScraperDataset.csv', 'a+', newline='', encoding='UTF8') as f:\n",
    "    writer = csv.writer(f)\n",
    "    writer.writerow(data)"
   ]
  },
  {
   "cell_type": "code",
   "execution_count": 8,
   "id": "f7fb1166",
   "metadata": {
    "scrolled": true
   },
   "outputs": [],
   "source": [
    "# Combine all of the above code into one function\n",
    "\n",
    "def check_price():\n",
    "    URL = 'https://www.amazon.it/Solgar-Rose-Vita-C-1000/dp/B0B3S7BH53/ref=sr_1_39?__mk_it_IT=%C3%85M%C3%85%C5%BD%C3%95%C3%91&crid=28HYISLH6EJWL&keywords=vitamina&qid=1671613373&sprefix=vitamina%2Caps%2C111&sr=8-39'\n",
    "\n",
    "    headers = {\"User-Agent\": \"Mozilla/5.0 (Windows NT 10.0; Win64; x64) AppleWebKit/537.36 (KHTML, like Gecko) Chrome/110.0.0.0 Safari/537.36\"}\n",
    "\n",
    "    page = requests.get(URL, headers=headers)\n",
    "\n",
    "    soup1 = BeautifulSoup(page.content, 'html.parser')\n",
    "\n",
    "    soup2 = BeautifulSoup(soup1.prettify(), 'html.parser')\n",
    "\n",
    "    title = soup2.find(id='productTitle').get_text()\n",
    "\n",
    "    price = soup2.find(id='corePrice_feature_div').get_text()\n",
    "\n",
    "    today = time.strftime(\"%d-%m-%Y\")\n",
    "\n",
    "    saving_perc = soup2.find('span', {\"class\" : \"savingsPercentage\"}).string\n",
    "    \n",
    "    header = ['Title', 'Price', 'Saving Percentage', 'Date']\n",
    "    \n",
    "    data = [title, price, saving_perc, today]\n",
    "\n",
    "    with open('AmazonWebScraperDataset.csv', 'a+', newline='', encoding='UTF8') as f:\n",
    "        writer = csv.writer(f)\n",
    "        writer.writerow(data)\n",
    "            \n",
    "    if (int(price) < 15):\n",
    "        send_mail()"
   ]
  },
  {
   "cell_type": "code",
   "execution_count": null,
   "id": "1c381ef0",
   "metadata": {},
   "outputs": [],
   "source": [
    "# Runs check_price after 24h and inputs data into your CSV\n",
    "\n",
    "while(True):\n",
    "    check_price()\n",
    "    time.sleep(86400)"
   ]
  },
  {
   "cell_type": "code",
   "execution_count": null,
   "id": "23587df6",
   "metadata": {},
   "outputs": [],
   "source": [
    "# Read the local CSV file\n",
    "\n",
    "df = pd.read_csv(r'C:\\Users\\Davide\\AmazonWebScraperDataset.csv')\n",
    "\n",
    "print(df)"
   ]
  },
  {
   "cell_type": "code",
   "execution_count": null,
   "id": "a29c4905",
   "metadata": {},
   "outputs": [],
   "source": [
    "# Example of auto sending email\n",
    "\n",
    "def send_mail():\n",
    "    server = smtplib.SMTP_SSL('smtp.gmail.com',465)\n",
    "    server.ehlo()\n",
    "    server.login('email@gmail.com','xxxxpasswordxxxx')\n",
    "    \n",
    "    subject = \"This is the main subject of the email\"\n",
    "    body = \"This is the body of the email\"\n",
    "   \n",
    "    msg = f\"Subject: {subject}\\n\\n{body}\"\n",
    "    \n",
    "    server.sendmail(\n",
    "        'email@gmail.com',\n",
    "        msg\n",
    "    )"
   ]
  },
  {
   "cell_type": "code",
   "execution_count": null,
   "id": "3f463e84",
   "metadata": {},
   "outputs": [],
   "source": []
  }
 ],
 "metadata": {
  "kernelspec": {
   "display_name": "Python 3 (ipykernel)",
   "language": "python",
   "name": "python3"
  },
  "language_info": {
   "codemirror_mode": {
    "name": "ipython",
    "version": 3
   },
   "file_extension": ".py",
   "mimetype": "text/x-python",
   "name": "python",
   "nbconvert_exporter": "python",
   "pygments_lexer": "ipython3",
   "version": "3.9.13"
  }
 },
 "nbformat": 4,
 "nbformat_minor": 5
}
